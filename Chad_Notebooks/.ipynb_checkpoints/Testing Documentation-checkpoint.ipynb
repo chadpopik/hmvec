{
 "cells": [
  {
   "cell_type": "code",
   "execution_count": 1,
   "id": "aef305ee",
   "metadata": {},
   "outputs": [],
   "source": [
    "import os,sys\n",
    "sys.path.append('../')\n",
    "import camb\n",
    "import hmvec as hm\n",
    "import numpy as np\n",
    "import matplotlib.pyplot as plt"
   ]
  },
  {
   "cell_type": "code",
   "execution_count": 2,
   "id": "ddd039c5",
   "metadata": {},
   "outputs": [],
   "source": [
    "# Create model\n",
    "zs = np.linspace(0.,3.,20)\n",
    "ms = np.geomspace(2e10,1e17,200)\n",
    "ks = np.geomspace(1e-4,100,1001)\n",
    "hcos = hm.HaloModel(zs,ks,ms=ms)"
   ]
  },
  {
   "cell_type": "code",
   "execution_count": 3,
   "id": "e5384782",
   "metadata": {},
   "outputs": [],
   "source": [
    "# Get Power Spectrum off of preset NFW profile\n",
    "pmm_1h = hcos.get_power_1halo(name=\"nfw\")\n",
    "pmm_2h = hcos.get_power_2halo(name=\"nfw\")"
   ]
  },
  {
   "cell_type": "code",
   "execution_count": 4,
   "id": "e9c4ee9b",
   "metadata": {},
   "outputs": [
    {
     "name": "stderr",
     "output_type": "stream",
     "text": [
      "/global/u2/c/cpopik/hmvec/Notebooks/../hmvec/fft.py:90: RuntimeWarning: invalid value encountered in true_divide\n",
      "  uk = ukts/kts[None,None,:]/mnorm[...,None]\n"
     ]
    }
   ],
   "source": [
    "# Create new profile\n",
    "hcos.add_battaglia_profile(\"electron\",family=\"AGN\",xmax=20,nxs=5000)"
   ]
  },
  {
   "cell_type": "code",
   "execution_count": 5,
   "id": "72a8346f",
   "metadata": {},
   "outputs": [],
   "source": [
    "# Get Power Spectrum off of new profile\n",
    "pee_1h = hcos.get_power_1halo(name=\"electron\")\n",
    "pee_2h = hcos.get_power_2halo(name=\"electron\")"
   ]
  },
  {
   "cell_type": "code",
   "execution_count": 6,
   "id": "cb4f01d8",
   "metadata": {},
   "outputs": [],
   "source": [
    "# Calculate cross spectrum between profiles\n",
    "pme_1h = hcos.get_power_1halo(\"nfw\",\"electron\")\n",
    "pme_2h = hcos.get_power_2halo(\"nfw\",\"electron\")"
   ]
  },
  {
   "cell_type": "code",
   "execution_count": 7,
   "id": "f67c6df3",
   "metadata": {},
   "outputs": [
    {
     "name": "stderr",
     "output_type": "stream",
     "text": [
      "/global/u2/c/cpopik/hmvec/Notebooks/../hmvec/hmvec.py:876: RuntimeWarning: invalid value encountered in true_divide\n",
      "  ret = Ns**2./Nc\n"
     ]
    }
   ],
   "source": [
    "# Add Halo Occupancy Distribution\n",
    "hcos.add_hod(name=\"g\",mthresh=10**10.5+zs*0.)"
   ]
  },
  {
   "cell_type": "markdown",
   "id": "2b3b5175",
   "metadata": {},
   "source": [
    "The above part of the code has a problem in lines 463/464 where it references Msat_override in its definition. This is fixed(?) by making those definitions equals to None. It's unclear if this part should be set to another defintion or handled better."
   ]
  },
  {
   "cell_type": "code",
   "execution_count": 8,
   "id": "f63b9933",
   "metadata": {},
   "outputs": [
    {
     "name": "stderr",
     "output_type": "stream",
     "text": [
      "/global/u2/c/cpopik/hmvec/Notebooks/../hmvec/cosmology.py:393: RuntimeWarning: invalid value encountered in true_divide\n",
      "  prefactor = hzs * Wz1s * Wz2s   / chis**2.\n",
      "/global/u2/c/cpopik/hmvec/Notebooks/../hmvec/cosmology.py:401: RuntimeWarning: divide by zero encountered in true_divide\n",
      "  kevals = (ell+0.5)/chis\n"
     ]
    },
    {
     "data": {
      "text/plain": [
       "[<matplotlib.lines.Line2D at 0x15551a5d81c0>]"
      ]
     },
     "execution_count": 8,
     "metadata": {},
     "output_type": "execute_result"
    },
    {
     "data": {
      "image/png": "[encoded data removed]",
      "text/plain": [
       "<Figure size 432x288 with 1 Axes>"
      ]
     },
     "metadata": {
      "needs_background": "light"
     },
     "output_type": "display_data"
    }
   ],
   "source": [
    "pmm_1h = hcos.get_power_1halo(name=\"nfw\")\n",
    "pmm_2h = hcos.get_power_2halo(name=\"nfw\")\n",
    "Pmm = pmm_1h + pmm_2h\n",
    "\n",
    "ells = np.linspace(100,600,10)\n",
    "Cls = hcos.C_kk(ells,zs,ks,Pmm,lzs1=2.5,lzs2=2.5)\n",
    "\n",
    "plt.plot(ells, Cls)"
   ]
  },
  {
   "cell_type": "code",
   "execution_count": 9,
   "id": "b867c133",
   "metadata": {},
   "outputs": [
    {
     "data": {
      "text/plain": [
       "[<matplotlib.lines.Line2D at 0x1555169a4490>]"
      ]
     },
     "execution_count": 9,
     "metadata": {},
     "output_type": "execute_result"
    },
    {
     "data": {
      "image/png": "[encoded data removed]",
      "text/plain": [
       "<Figure size 432x288 with 1 Axes>"
      ]
     },
     "metadata": {
      "needs_background": "light"
     },
     "output_type": "display_data"
    }
   ],
   "source": [
    "pgm_1h = hcos.get_power_1halo(\"nfw\",\"electron\")\n",
    "pgm_2h = hcos.get_power_2halo(\"nfw\",\"electron\")\n",
    "Pgm = pgm_1h + pgm_2h\n",
    "\n",
    "ells = np.linspace(100,600,10)\n",
    "Cls = hcos.C_kg(ells,zs,ks,Pgm,gzs=0.8,lzs=2.5)\n",
    "\n",
    "plt.plot(ells, Cls)"
   ]
  },
  {
   "cell_type": "code",
   "execution_count": null,
   "id": "cb578c9e",
   "metadata": {},
   "outputs": [],
   "source": []
  }
 ],
 "metadata": {
  "kernelspec": {
   "display_name": "NERSC Python",
   "language": "python",
   "name": "python3"
  },
  "language_info": {
   "codemirror_mode": {
    "name": "ipython",
    "version": 3
   },
   "file_extension": ".py",
   "mimetype": "text/x-python",
   "name": "python",
   "nbconvert_exporter": "python",
   "pygments_lexer": "ipython3",
   "version": "3.9.7"
  }
 },
 "nbformat": 4,
 "nbformat_minor": 5
}
